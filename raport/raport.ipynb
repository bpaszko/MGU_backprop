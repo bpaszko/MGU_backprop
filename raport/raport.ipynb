{
 "cells": [
  {
   "cell_type": "markdown",
   "metadata": {},
   "source": [
    "# Metody Głębokiego Uczenia\n",
    "# Projekt I - raport\n",
    "\n",
    "## Autorzy:\n",
    "Wojciech Celej  \n",
    "Bartosz Paszko"
   ]
  },
  {
   "cell_type": "markdown",
   "metadata": {},
   "source": [
    "# 1. Opis rozwiązania\n",
    "W ramach projektu przygotowaliśmy program pozwalający budować i trenować proste sieci neuronowe typu feed-forward. Rozwiązanie zostało zaimplementowane w języku Python, natomiast sam proces definiowania sieci odbywa się za pomocą dostarczenia odpowiedniego pliku typu JSON o ustalonej strukturze.\n",
    "\n",
    "Program składa się z klas odpowiadających za:\n",
    "* całość sieci\n",
    "* poszczególne funkcje aktywacji\n",
    "* poszczególne funkcje straty\n",
    "* ładowanie danych i zamianę ich formatu\n",
    "* optymalizację\n",
    "* wizualizację\n",
    "\n",
    "Taki podział pozwala na proste dodawanie np. kolejnych funkcji aktywacji poprzez implementację ich określonych funkcji. \n",
    "\n",
    "Trening sieci odbywa się za pomocą algorytmu wstecznej propagacji. Wspierane są następujące funkcje aktywacji:\n",
    "* sigmoid\n",
    "* tangens hiperboliczny\n",
    "* softplus\n",
    "* ReLU\n",
    "* liniowa\n",
    "\n",
    "Zaimplementowana została tylko jedna funkcja straty (MSE), natomiast dodanie nowej wymaga tylko dodania implementacji jej klasy, a dokładnie wymaganych metod. Podobnie jest z optymalizatorami, gdzie dostępny jest tylko SGD Momentum. "
   ]
  },
  {
   "cell_type": "markdown",
   "metadata": {},
   "source": [
    "# 2. Modyfikacje parametrów\n",
    "Poniżej znajdują się dostępne do modyfikacji parametry architektury oraz treningu obok których przedstawione zostały ich przykładowe definicje w JSON’ie.\n",
    "\n",
    "a) dobór liczby warstw i neuronów w każdej z nich oraz ich funkcji aktywacji\n",
    "```\n",
    "\"hidden_layers\": [\n",
    "   {\n",
    "     \"activation\": \"sigmoid\",\n",
    "     \"neurons\": 256\n",
    "   },\n",
    "   {\n",
    "     \"activation\": \"tanh\",\n",
    "     \"neurons\": 128\n",
    "   }\n",
    "]\n",
    "```\n",
    "\n",
    "b) podanie ilości epok przez które ma trenować się model\n",
    "```\n",
    "\"number_of_iterations\": 500\n",
    "```\n",
    "\n",
    "c) zmianę wartości współczynnika nauki\n",
    "```\n",
    "\"learning_rate\": 0.01\n",
    "```\n",
    "\n",
    "d) zmianę wartości współczynnika bezwładności\n",
    "```\n",
    "\"momentum\": 0.9\n",
    "```\n",
    "\n",
    "e) zmianę wielkości batcha\n",
    "```\n",
    "\"batch_size\": 200\n",
    "```\n",
    "\n",
    "f) wybór problemu (klasyfikacja, regresja)\n",
    "```\n",
    "\"type\": \"regression\"\n",
    "```\n",
    "\n",
    "g) określenie zbiorów uczenia (treningowego oraz testowego) \n",
    "```\n",
    "\"train_df\": \"data/Regression/data.activation.train.1000.csv\",\n",
    "\"test_df\": \"data/Regression/data.activation.test.1000.csv\"\n",
    "```\n",
    "\n",
    "h) zainicjowanie ziarna generatora liczb losowych\n",
    "```\n",
    "\"seed\": 123\n",
    "```"
   ]
  },
  {
   "cell_type": "markdown",
   "metadata": {},
   "source": [
    "Klasa parsująca plik w formacie JSON zawiera podstawowe mechanizmy zabezpieczające przed załadowaniem niepoprawnych danych na etapie ich parsowania."
   ]
  },
  {
   "cell_type": "markdown",
   "metadata": {},
   "source": [
    "# 3. Wizualizacja działania modelu\n",
    "\n",
    "W celu analizy jakości treningu jest on nadzorowany poprzez zbieranie informacji o wartości funkcji straty dla każdej epoki treningowej oraz co pewien czas (5 epok) obliczana jest jej wartość na zbiorze testowym. Pozwala to na analizę dwóch krzywych straty i wyciągnięcie wniosków co do poprawności treningu.\n",
    "\n",
    "Dodatkowym narzędziem do analizy modelu są wykresy predykcji dla problemu klasyfikacji oraz regresji. W przypadku klasyfikacji zbiór treningowy zaznaczany jest dodatkowo na wykresie za pomocą punktów o kolorach przypisanych danej klasie, natomiast cała płaszczyzna malowana jest na kolory odpowiadające klasom wybranym przez model w danym miejscu.\n",
    "\n",
    "\n",
    "We wszystkich zaprezentowanych poniżej przykładach parametry ustawiono na:\n",
    "```\n",
    "  \"learning_rate\": 0.01,\n",
    "  \"momentum\": 0.9,\n",
    "  \"number_of_iterations\": 100,\n",
    "  \"seed\": 123,\n",
    "```\n",
    "\n",
    "Pozostałe parametry będą prezentowane dla poszczególnych zbiorów."
   ]
  },
  {
   "cell_type": "markdown",
   "metadata": {},
   "source": [
    "## Regresja"
   ]
  },
  {
   "cell_type": "markdown",
   "metadata": {},
   "source": [
    "Dla wszystkich zbiorów treningowych $x \\in [-2 ; 5]$  \n",
    "Dla wszystkich zbiorów testowych $x \\in [-5 ; 7]$  \n",
    "Zakres zbioru testowego jest szerszy niż zbioru treningowego, co pozwoli okreslić jak sieć z liniowym wejściem radzi sobie z problemem generalizacji wiedzy (ektrapolacji)."
   ]
  },
  {
   "cell_type": "markdown",
   "metadata": {},
   "source": [
    "### 1. Activation"
   ]
  },
  {
   "cell_type": "markdown",
   "metadata": {},
   "source": [
    "  ```\n",
    "  \"hidden_layers\": [\n",
    "    {\n",
    "      \"activation\": \"sigmoid\",\n",
    "      \"neurons\": 10\n",
    "    }\n",
    "  ],\n",
    "  \"type\": \"regression\",\n",
    "  \"train_df\": \"data/Regression/data.activation.train.10000.csv\",\n",
    "  \"test_df\": \"data/Regression/data.activation.test.10000.csv\",\n",
    "  \"batch_size\": 10\n",
    "```"
   ]
  },
  {
   "cell_type": "markdown",
   "metadata": {},
   "source": [
    "![](TESTY/regresja/activation/loss.png)"
   ]
  },
  {
   "cell_type": "markdown",
   "metadata": {},
   "source": [
    "![](TESTY/regresja/activation/result.png)"
   ]
  },
  {
   "cell_type": "markdown",
   "metadata": {},
   "source": [
    "### 2. Cube"
   ]
  },
  {
   "cell_type": "markdown",
   "metadata": {},
   "source": [
    "```\n",
    "  \"hidden_layers\": [\n",
    "    {\n",
    "      \"activation\": \"sigmoid\",\n",
    "      \"neurons\": 100\n",
    "    }\n",
    "  ],\n",
    "  \"type\": \"regression\",\n",
    "  \"train_df\": \"data/Regression/data.cube.train.10000.csv\",\n",
    "  \"test_df\": \"data/Regression/data.cube.test.10000.csv\",\n",
    "  \"batch_size\": 50\n",
    "```"
   ]
  },
  {
   "cell_type": "markdown",
   "metadata": {},
   "source": [
    "![](TESTY/regresja/cube/loss.png)"
   ]
  },
  {
   "cell_type": "markdown",
   "metadata": {},
   "source": [
    "![](TESTY/regresja/cube/result.png)"
   ]
  },
  {
   "cell_type": "markdown",
   "metadata": {},
   "source": [
    "### 3. Linear"
   ]
  },
  {
   "cell_type": "markdown",
   "metadata": {},
   "source": [
    "```\n",
    "  \"hidden_layers\": [\n",
    "    {\n",
    "      \"activation\": \"sigmoid\",\n",
    "      \"neurons\": 50\n",
    "    }\n",
    "  ],\n",
    "  \"type\": \"regression\",\n",
    "  \"train_df\": \"data/Regression/data.linear.train.10000.csv\",\n",
    "  \"test_df\": \"data/Regression/data.linear.test.10000.csv\",\n",
    "  \"batch_size\": 50\n",
    "```"
   ]
  },
  {
   "cell_type": "markdown",
   "metadata": {},
   "source": [
    "![](TESTY/regresja/linear/loss.png)"
   ]
  },
  {
   "cell_type": "markdown",
   "metadata": {},
   "source": [
    "![](TESTY/regresja/linear/result.png)"
   ]
  },
  {
   "cell_type": "markdown",
   "metadata": {},
   "source": [
    "### 4. Multimodal"
   ]
  },
  {
   "cell_type": "markdown",
   "metadata": {},
   "source": [
    "```\n",
    "  \"hidden_layers\": [\n",
    "    {\n",
    "      \"activation\": \"sigmoid\",\n",
    "      \"neurons\": 200\n",
    "    }\n",
    "  ],\n",
    "  \"type\": \"regression\",\n",
    "  \"train_df\": \"data/Regression/data.multimodal.train.10000.csv\",\n",
    "  \"test_df\": \"data/Regression/data.multimodal.test.10000.csv\",\n",
    "  \"batch_size\": 50\n",
    "```"
   ]
  },
  {
   "cell_type": "markdown",
   "metadata": {},
   "source": [
    "![](TESTY/regresja/multimodal/loss.png)"
   ]
  },
  {
   "cell_type": "markdown",
   "metadata": {},
   "source": [
    "![](TESTY/regresja/multimodal/result.png)"
   ]
  },
  {
   "cell_type": "markdown",
   "metadata": {},
   "source": [
    "### 5. Square"
   ]
  },
  {
   "cell_type": "markdown",
   "metadata": {},
   "source": [
    "```\n",
    "  \"hidden_layers\": [\n",
    "    {\n",
    "      \"activation\": \"sigmoid\",\n",
    "      \"neurons\": 100\n",
    "    }\n",
    "  ],\n",
    "  \"type\": \"regression\",\n",
    "  \"train_df\": \"data/Regression/data.square.train.10000.csv\",\n",
    "  \"test_df\": \"data/Regression/data.square.test.10000.csv\",\n",
    "  \"batch_size\": 10\n",
    "```"
   ]
  },
  {
   "cell_type": "markdown",
   "metadata": {},
   "source": [
    "![](TESTY/regresja/square/loss.png)"
   ]
  },
  {
   "cell_type": "markdown",
   "metadata": {},
   "source": [
    "![](TESTY/regresja/square/result.png)"
   ]
  },
  {
   "cell_type": "markdown",
   "metadata": {},
   "source": [
    "### Wnioski"
   ]
  },
  {
   "cell_type": "markdown",
   "metadata": {},
   "source": [
    "* zadowalające wyniki na zbiorze treningowym uzyskano dla sieci z jedną wartswą ukrytą\n",
    "* sieć neuronowa dobrze odwzorowuje funkcję na zbiorze testowym w zakresie $x$ pokrywającym się z zakresem $x$ dla zbioru treningowego\n",
    "* duży błąd na zbiorze testowym bierze się z braku generalizacji, co wynika z użycia sieci z jednym wejściem liniowym"
   ]
  },
  {
   "cell_type": "markdown",
   "metadata": {},
   "source": [
    "## Klasyfikacja"
   ]
  },
  {
   "cell_type": "markdown",
   "metadata": {},
   "source": [
    "### 1. Circles"
   ]
  },
  {
   "cell_type": "markdown",
   "metadata": {},
   "source": [
    "Accuracy score: 0.9635"
   ]
  },
  {
   "cell_type": "markdown",
   "metadata": {},
   "source": [
    "```\n",
    "  \"hidden_layers\": [\n",
    "    {\n",
    "      \"activation\": \"sigmoid\",\n",
    "      \"neurons\": 50\n",
    "    },\n",
    "    {\n",
    "      \"activation\": \"sigmoid\",\n",
    "      \"neurons\": 50\n",
    "    },\n",
    "    {\n",
    "      \"activation\": \"sigmoid\",\n",
    "      \"neurons\": 50\n",
    "    },\n",
    "    {\n",
    "      \"activation\": \"sigmoid\",\n",
    "      \"neurons\": 50\n",
    "    },\n",
    "    {\n",
    "      \"activation\": \"sigmoid\",\n",
    "      \"neurons\": 50\n",
    "    },\n",
    "    {\n",
    "      \"activation\": \"sigmoid\",\n",
    "      \"neurons\": 50\n",
    "    },\n",
    "    {\n",
    "      \"activation\": \"sigmoid\",\n",
    "      \"neurons\": 50\n",
    "    },\n",
    "    {\n",
    "      \"activation\": \"sigmoid\",\n",
    "      \"neurons\": 50\n",
    "    },\n",
    "    {\n",
    "      \"activation\": \"sigmoid\",\n",
    "      \"neurons\": 50\n",
    "    }\n",
    "  ],\n",
    "  \"type\": \"classification\",\n",
    "  \"train_df\": \"data/Classification/data.circles.train.10000.csv\",\n",
    "  \"test_df\": \"data/Classification/data.circles.test.10000.csv\",\n",
    "  \"batch_size\": 10\n",
    "```"
   ]
  },
  {
   "cell_type": "markdown",
   "metadata": {},
   "source": [
    "![](TESTY/klasyfikacja/circles/loss.png)"
   ]
  },
  {
   "cell_type": "markdown",
   "metadata": {},
   "source": [
    "![](TESTY/klasyfikacja/circles/result.png)"
   ]
  },
  {
   "cell_type": "markdown",
   "metadata": {},
   "source": [
    "![](TESTY/klasyfikacja/circles/myplot.png)"
   ]
  },
  {
   "cell_type": "markdown",
   "metadata": {},
   "source": [
    "### 2. noisyXOR"
   ]
  },
  {
   "cell_type": "markdown",
   "metadata": {},
   "source": [
    "Accuracy score: 0.9192"
   ]
  },
  {
   "cell_type": "markdown",
   "metadata": {},
   "source": [
    "```\n",
    "  \"hidden_layers\": [\n",
    "    {\n",
    "      \"activation\": \"sigmoid\",\n",
    "      \"neurons\": 100\n",
    "    },\n",
    "    {\n",
    "      \"activation\": \"sigmoid\",\n",
    "      \"neurons\": 100\n",
    "    }\n",
    "  ],\n",
    "  \"type\": \"classification\",\n",
    "  \"train_df\": \"data/Classification/data.noisyXOR.train.10000.csv\",\n",
    "  \"test_df\": \"data/Classification/data.noisyXOR.test.10000.csv\",\n",
    "  \"batch_size\": 10\n",
    "```"
   ]
  },
  {
   "cell_type": "markdown",
   "metadata": {},
   "source": [
    "![](TESTY/klasyfikacja/noisy_xor/loss.png)"
   ]
  },
  {
   "cell_type": "markdown",
   "metadata": {},
   "source": [
    "![](TESTY/klasyfikacja/noisy_xor/result.png)"
   ]
  },
  {
   "cell_type": "markdown",
   "metadata": {},
   "source": [
    "![](TESTY/klasyfikacja/noisy_xor/myplot.png)"
   ]
  },
  {
   "cell_type": "markdown",
   "metadata": {},
   "source": [
    "## 3. Simple"
   ]
  },
  {
   "cell_type": "markdown",
   "metadata": {},
   "source": [
    "Accuracy score: 0.9938"
   ]
  },
  {
   "cell_type": "markdown",
   "metadata": {},
   "source": [
    "```\n",
    "  \"hidden_layers\": [\n",
    "    {\n",
    "      \"activation\": \"sigmoid\",\n",
    "      \"neurons\": 10\n",
    "    }\n",
    "  ],\n",
    "  \"type\": \"classification\",\n",
    "  \"train_df\": \"data/Classification/data.simple.train.10000.csv\",\n",
    "  \"test_df\": \"data/Classification/data.simple.test.10000.csv\",\n",
    "  \"batch_size\": 10\n",
    "```"
   ]
  },
  {
   "cell_type": "markdown",
   "metadata": {},
   "source": [
    "![](TESTY/klasyfikacja/simple/loss.png)"
   ]
  },
  {
   "cell_type": "markdown",
   "metadata": {},
   "source": [
    "![](TESTY/klasyfikacja/simple/result.png)"
   ]
  },
  {
   "cell_type": "markdown",
   "metadata": {},
   "source": [
    "![](TESTY/klasyfikacja/simple/myplot.png)"
   ]
  },
  {
   "cell_type": "markdown",
   "metadata": {},
   "source": [
    "### 4. Three gauss"
   ]
  },
  {
   "cell_type": "markdown",
   "metadata": {},
   "source": [
    "Accuracy score: 0.9313"
   ]
  },
  {
   "cell_type": "markdown",
   "metadata": {},
   "source": [
    "```\n",
    "  \"hidden_layers\": [\n",
    "    {\n",
    "      \"activation\": \"sigmoid\",\n",
    "      \"neurons\": 100\n",
    "    },\n",
    "    {\n",
    "      \"activation\": \"sigmoid\",\n",
    "      \"neurons\": 50\n",
    "    }\n",
    "  ],\n",
    "  \"type\": \"classification\",\n",
    "  \"train_df\": \"data/Classification/data.three_gauss.train.10000.csv\",\n",
    "  \"test_df\": \"data/Classification/data.three_gauss.test.10000.csv\",\n",
    "  \"batch_size\": 10\n",
    "```"
   ]
  },
  {
   "cell_type": "markdown",
   "metadata": {},
   "source": [
    "![](TESTY/klasyfikacja/three_gaussian/loss.png)"
   ]
  },
  {
   "cell_type": "markdown",
   "metadata": {},
   "source": [
    "![](TESTY/klasyfikacja/three_gaussian/result.png)"
   ]
  },
  {
   "cell_type": "markdown",
   "metadata": {},
   "source": [
    "![](TESTY/klasyfikacja/three_gaussian/myplot.png)"
   ]
  },
  {
   "cell_type": "markdown",
   "metadata": {},
   "source": [
    "### 5. XOR"
   ]
  },
  {
   "cell_type": "markdown",
   "metadata": {},
   "source": [
    "Accuracy score: 0.9893"
   ]
  },
  {
   "cell_type": "markdown",
   "metadata": {},
   "source": [
    "```\n",
    "    {\n",
    "      \"activation\": \"sigmoid\",\n",
    "      \"neurons\": 50\n",
    "    },\n",
    "    {\n",
    "      \"activation\": \"sigmoid\",\n",
    "      \"neurons\": 50\n",
    "    },\n",
    "    {\n",
    "      \"activation\": \"sigmoid\",\n",
    "      \"neurons\": 50\n",
    "    }\n",
    "  ],\n",
    "  \"type\": \"classification\",\n",
    "  \"train_df\": \"data/Classification/data.xor.train.10000.csv\",\n",
    "  \"test_df\": \"data/Classification/data.xor.test.10000.csv\",\n",
    "  \"batch_size\": 10\n",
    "```"
   ]
  },
  {
   "cell_type": "markdown",
   "metadata": {},
   "source": [
    "![](TESTY/klasyfikacja/xor/loss.png)"
   ]
  },
  {
   "cell_type": "markdown",
   "metadata": {},
   "source": [
    "![](TESTY/klasyfikacja/xor/result.png)"
   ]
  },
  {
   "cell_type": "markdown",
   "metadata": {},
   "source": [
    "![](TESTY/klasyfikacja/xor/myplot.png)"
   ]
  },
  {
   "cell_type": "markdown",
   "metadata": {},
   "source": [
    "### Wnioski"
   ]
  },
  {
   "cell_type": "markdown",
   "metadata": {},
   "source": [
    "* w celu uzyskania poprawnej klasyfikacji ( w szczególności dla trudniejszych zbiorów jak cycles) użyto sieci z więcej niż jedną warstwą ukrytą\n",
    "* accuracy score we wszystkich przypadkach jest bliskie 1\n",
    "* uzyskanie poprawnej klasyfikacji wymagało użycia sieci o odpowiedniej budowie, jednowarstowe sieci dla trudniejszych przypadków zwracały złe wyniki"
   ]
  },
  {
   "cell_type": "markdown",
   "metadata": {},
   "source": [
    "# 4. Przykładowe testy"
   ]
  },
  {
   "cell_type": "markdown",
   "metadata": {},
   "source": [
    "## Klasyfikacja"
   ]
  },
  {
   "cell_type": "markdown",
   "metadata": {},
   "source": [
    "Referencyjny przykład: jak w wizualizacji"
   ]
  },
  {
   "cell_type": "markdown",
   "metadata": {},
   "source": [
    "#### Za mało warstw"
   ]
  },
  {
   "cell_type": "markdown",
   "metadata": {},
   "source": [
    "```\n",
    " \"hidden_layers\": [\n",
    "    {\n",
    "      \"activation\": \"sigmoid\",\n",
    "      \"neurons\": 50\n",
    "    },\n",
    "    {\n",
    "      \"activation\": \"sigmoid\",\n",
    "      \"neurons\": 50\n",
    "    },\n",
    "    {\n",
    "      \"activation\": \"sigmoid\",\n",
    "      \"neurons\": 50\n",
    "    }\n",
    "```"
   ]
  },
  {
   "cell_type": "markdown",
   "metadata": {},
   "source": [
    "![](TESTY/other/myplot1.png)"
   ]
  },
  {
   "cell_type": "markdown",
   "metadata": {},
   "source": [
    "![](TESTY/other/myplot2.png)"
   ]
  },
  {
   "cell_type": "markdown",
   "metadata": {},
   "source": [
    "Accuracy: 0.8246"
   ]
  },
  {
   "cell_type": "markdown",
   "metadata": {},
   "source": [
    "## Regresja"
   ]
  },
  {
   "cell_type": "markdown",
   "metadata": {},
   "source": [
    "Referencyjny przykład"
   ]
  },
  {
   "cell_type": "markdown",
   "metadata": {},
   "source": [
    "```\n",
    "{\n",
    "  \"learning_rate\": 0.01,\n",
    "  \"momentum\": 0.9,\n",
    "  \"number_of_iterations\": 200,\n",
    "  \"seed\": 123,\n",
    "  \"hidden_layers\": [\n",
    "    {\n",
    "      \"activation\": \"sigmoid\",\n",
    "      \"neurons\": 200\n",
    "    }\n",
    "  ],\n",
    "  \"type\": \"regression\",\n",
    "  \"train_df\": \"data/Regression/data.multimodal.train.10000.csv\",\n",
    "  \"test_df\": \"data/Regression/data.multimodal.test.10000.csv\",\n",
    "  \"batch_size\": 50\n",
    "}\n",
    "```"
   ]
  },
  {
   "cell_type": "markdown",
   "metadata": {},
   "source": [
    "![](TESTY/other/myplot3.png)"
   ]
  },
  {
   "cell_type": "markdown",
   "metadata": {},
   "source": [
    "#### Za mało neuronów w warstwie ukrytej"
   ]
  },
  {
   "cell_type": "markdown",
   "metadata": {},
   "source": [
    "```\n",
    "  \"hidden_layers\": [\n",
    "    {\n",
    "      \"activation\": \"sigmoid\",\n",
    "      \"neurons\": 50\n",
    "    }\n",
    "```"
   ]
  },
  {
   "cell_type": "markdown",
   "metadata": {},
   "source": [
    "![](TESTY/other/myplot4.png)"
   ]
  },
  {
   "cell_type": "markdown",
   "metadata": {},
   "source": [
    "#### Za mało iteracji uczących"
   ]
  },
  {
   "cell_type": "markdown",
   "metadata": {},
   "source": [
    "```\n",
    "    \"number_of_iterations\": 100,\n",
    "    \"batch_size\": 10\n",
    "```"
   ]
  },
  {
   "cell_type": "markdown",
   "metadata": {},
   "source": [
    "![](TESTY/other/myplot5.png)"
   ]
  }
 ],
 "metadata": {
  "kernelspec": {
   "display_name": "Python 3",
   "language": "python",
   "name": "python3"
  },
  "language_info": {
   "codemirror_mode": {
    "name": "ipython",
    "version": 3
   },
   "file_extension": ".py",
   "mimetype": "text/x-python",
   "name": "python",
   "nbconvert_exporter": "python",
   "pygments_lexer": "ipython3",
   "version": "3.7.1"
  }
 },
 "nbformat": 4,
 "nbformat_minor": 2
}
